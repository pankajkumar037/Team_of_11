{
 "cells": [
  {
   "cell_type": "code",
   "execution_count": 9,
   "metadata": {},
   "outputs": [],
   "source": [
    "import os\n",
    "from dotenv import load_dotenv\n",
    "load_dotenv()\n",
    "os.environ[\"GOOGLE_API_KEY\"] = os.getenv('GOOGLE_API_KEY')"
   ]
  },
  {
   "cell_type": "code",
   "execution_count": null,
   "metadata": {},
   "outputs": [],
   "source": [
    "from phi.agent import Agent,RunResponse\n",
    "from phi.model.groq import Groq\n",
    "from phi.model.google import Gemini\n",
    "from phi.tools.duckduckgo import DuckDuckGo\n"
   ]
  },
  {
   "cell_type": "code",
   "execution_count": null,
   "metadata": {},
   "outputs": [],
   "source": []
  },
  {
   "cell_type": "code",
   "execution_count": 24,
   "metadata": {},
   "outputs": [
    {
     "data": {
      "text/html": [
       "<pre style=\"white-space:pre;overflow-x:auto;line-height:normal;font-family:Menlo,'DejaVu Sans Mono',consolas,'Courier New',monospace\"></pre>\n"
      ],
      "text/plain": []
     },
     "metadata": {},
     "output_type": "display_data"
    },
    {
     "ename": "ImportError",
     "evalue": "`openai` not installed. Please install using `pip install openai`",
     "output_type": "error",
     "traceback": [
      "\u001b[31m---------------------------------------------------------------------------\u001b[39m",
      "\u001b[31mModuleNotFoundError\u001b[39m                       Traceback (most recent call last)",
      "\u001b[36mFile \u001b[39m\u001b[32mc:\\Users\\panka\\OneDrive\\Desktop\\Ai Agent projects\\Team_of_11\\.venv\\Lib\\site-packages\\phi\\model\\openai\\chat.py:21\u001b[39m\n\u001b[32m     20\u001b[39m \u001b[38;5;66;03m# Check the installed openai version\u001b[39;00m\n\u001b[32m---> \u001b[39m\u001b[32m21\u001b[39m \u001b[38;5;28;01mfrom\u001b[39;00m\u001b[38;5;250m \u001b[39m\u001b[34;01mopenai\u001b[39;00m\u001b[38;5;250m \u001b[39m\u001b[38;5;28;01mimport\u001b[39;00m __version__ \u001b[38;5;28;01mas\u001b[39;00m installed_version\n\u001b[32m     23\u001b[39m \u001b[38;5;66;03m# Convert installed version to a tuple of integers for comparison\u001b[39;00m\n",
      "\u001b[31mModuleNotFoundError\u001b[39m: No module named 'openai'",
      "\nDuring handling of the above exception, another exception occurred:\n",
      "\u001b[31mImportError\u001b[39m                               Traceback (most recent call last)",
      "\u001b[36mCell\u001b[39m\u001b[36m \u001b[39m\u001b[32mIn[24]\u001b[39m\u001b[32m, line 31\u001b[39m\n\u001b[32m     12\u001b[39m playing_team_agent=Agent(\n\u001b[32m     13\u001b[39m     name=\u001b[33m\"\u001b[39m\u001b[33mToss search agent\u001b[39m\u001b[33m\"\u001b[39m,\n\u001b[32m     14\u001b[39m     description=\u001b[33m\"\u001b[39m\u001b[33mif toss_search_agent returns \u001b[39m\u001b[33m'\u001b[39m\u001b[33mtoss has occured\u001b[39m\u001b[33m'\u001b[39m\u001b[33m then playing 11 of both the team are playing the match that agent reurns \u001b[39m\u001b[33m'\u001b[39m\u001b[33mNO toss has occured\u001b[39m\u001b[33m'\u001b[39m\u001b[33m then return the Probable playing 11 of both teams base don past record\u001b[39m\u001b[33m\"\u001b[39m,\n\u001b[32m   (...)\u001b[39m\u001b[32m     20\u001b[39m     \n\u001b[32m     21\u001b[39m )\n\u001b[32m     23\u001b[39m agent_team = Agent(\n\u001b[32m     24\u001b[39m     team=[toss_search_agent, playing_team_agent],\n\u001b[32m     25\u001b[39m     instructions=[\u001b[33m\"\u001b[39m\u001b[33mUse tables to display data\u001b[39m\u001b[33m\"\u001b[39m],\n\u001b[32m     26\u001b[39m     show_tool_calls=\u001b[38;5;28;01mTrue\u001b[39;00m,\n\u001b[32m     27\u001b[39m     markdown=\u001b[38;5;28;01mTrue\u001b[39;00m,\n\u001b[32m     28\u001b[39m )\n\u001b[32m---> \u001b[39m\u001b[32m31\u001b[39m \u001b[43magent_team\u001b[49m\u001b[43m.\u001b[49m\u001b[43mprint_response\u001b[49m\u001b[43m(\u001b[49m\u001b[33;43m\"\u001b[39;49m\u001b[33;43mSouth Africa vs New Zealand, 2nd Semi-Final (B1 v A2) \u001b[39;49m\u001b[33;43m\"\u001b[39;49m\u001b[43m,\u001b[49m\u001b[43m \u001b[49m\u001b[43mstream\u001b[49m\u001b[43m=\u001b[49m\u001b[38;5;28;43;01mTrue\u001b[39;49;00m\u001b[43m)\u001b[49m\n",
      "\u001b[36mFile \u001b[39m\u001b[32mc:\\Users\\panka\\OneDrive\\Desktop\\Ai Agent projects\\Team_of_11\\.venv\\Lib\\site-packages\\phi\\agent\\agent.py:2825\u001b[39m, in \u001b[36mAgent.print_response\u001b[39m\u001b[34m(self, message, messages, stream, markdown, show_message, show_reasoning, show_full_reasoning, console, **kwargs)\u001b[39m\n\u001b[32m   2822\u001b[39m \u001b[38;5;28;01mif\u001b[39;00m render:\n\u001b[32m   2823\u001b[39m     live_log.update(Group(*panels))\n\u001b[32m-> \u001b[39m\u001b[32m2825\u001b[39m \u001b[43m\u001b[49m\u001b[38;5;28;43;01mfor\u001b[39;49;00m\u001b[43m \u001b[49m\u001b[43mresp\u001b[49m\u001b[43m \u001b[49m\u001b[38;5;129;43;01min\u001b[39;49;00m\u001b[43m \u001b[49m\u001b[38;5;28;43mself\u001b[39;49m\u001b[43m.\u001b[49m\u001b[43mrun\u001b[49m\u001b[43m(\u001b[49m\u001b[43mmessage\u001b[49m\u001b[43m=\u001b[49m\u001b[43mmessage\u001b[49m\u001b[43m,\u001b[49m\u001b[43m \u001b[49m\u001b[43mmessages\u001b[49m\u001b[43m=\u001b[49m\u001b[43mmessages\u001b[49m\u001b[43m,\u001b[49m\u001b[43m \u001b[49m\u001b[43mstream\u001b[49m\u001b[43m=\u001b[49m\u001b[38;5;28;43;01mTrue\u001b[39;49;00m\u001b[43m,\u001b[49m\u001b[43m \u001b[49m\u001b[43m*\u001b[49m\u001b[43m*\u001b[49m\u001b[43mkwargs\u001b[49m\u001b[43m)\u001b[49m\u001b[43m:\u001b[49m\n\u001b[32m   2826\u001b[39m \u001b[43m    \u001b[49m\u001b[38;5;28;43;01mif\u001b[39;49;00m\u001b[43m \u001b[49m\u001b[38;5;28;43misinstance\u001b[39;49m\u001b[43m(\u001b[49m\u001b[43mresp\u001b[49m\u001b[43m,\u001b[49m\u001b[43m \u001b[49m\u001b[43mRunResponse\u001b[49m\u001b[43m)\u001b[49m\u001b[43m \u001b[49m\u001b[38;5;129;43;01mand\u001b[39;49;00m\u001b[43m \u001b[49m\u001b[38;5;28;43misinstance\u001b[39;49m\u001b[43m(\u001b[49m\u001b[43mresp\u001b[49m\u001b[43m.\u001b[49m\u001b[43mcontent\u001b[49m\u001b[43m,\u001b[49m\u001b[43m \u001b[49m\u001b[38;5;28;43mstr\u001b[39;49m\u001b[43m)\u001b[49m\u001b[43m:\u001b[49m\n\u001b[32m   2827\u001b[39m \u001b[43m        \u001b[49m\u001b[38;5;28;43;01mif\u001b[39;49;00m\u001b[43m \u001b[49m\u001b[43mresp\u001b[49m\u001b[43m.\u001b[49m\u001b[43mevent\u001b[49m\u001b[43m \u001b[49m\u001b[43m==\u001b[49m\u001b[43m \u001b[49m\u001b[43mRunEvent\u001b[49m\u001b[43m.\u001b[49m\u001b[43mrun_response\u001b[49m\u001b[43m:\u001b[49m\n",
      "\u001b[36mFile \u001b[39m\u001b[32mc:\\Users\\panka\\OneDrive\\Desktop\\Ai Agent projects\\Team_of_11\\.venv\\Lib\\site-packages\\phi\\agent\\agent.py:1764\u001b[39m, in \u001b[36mAgent._run\u001b[39m\u001b[34m(self, message, stream, audio, images, videos, messages, stream_intermediate_steps, **kwargs)\u001b[39m\n\u001b[32m   1761\u001b[39m logger.debug(\u001b[33mf\u001b[39m\u001b[33m\"\u001b[39m\u001b[33m*********** Agent Run Start: \u001b[39m\u001b[38;5;132;01m{\u001b[39;00m\u001b[38;5;28mself\u001b[39m.run_response.run_id\u001b[38;5;132;01m}\u001b[39;00m\u001b[33m ***********\u001b[39m\u001b[33m\"\u001b[39m)\n\u001b[32m   1763\u001b[39m \u001b[38;5;66;03m# 1. Setup: Update the model class and resolve context\u001b[39;00m\n\u001b[32m-> \u001b[39m\u001b[32m1764\u001b[39m \u001b[38;5;28;43mself\u001b[39;49m\u001b[43m.\u001b[49m\u001b[43mupdate_model\u001b[49m\u001b[43m(\u001b[49m\u001b[43m)\u001b[49m\n\u001b[32m   1765\u001b[39m \u001b[38;5;28mself\u001b[39m.run_response.model = \u001b[38;5;28mself\u001b[39m.model.id \u001b[38;5;28;01mif\u001b[39;00m \u001b[38;5;28mself\u001b[39m.model \u001b[38;5;129;01mis\u001b[39;00m \u001b[38;5;129;01mnot\u001b[39;00m \u001b[38;5;28;01mNone\u001b[39;00m \u001b[38;5;28;01melse\u001b[39;00m \u001b[38;5;28;01mNone\u001b[39;00m\n\u001b[32m   1766\u001b[39m \u001b[38;5;28;01mif\u001b[39;00m \u001b[38;5;28mself\u001b[39m.context \u001b[38;5;129;01mis\u001b[39;00m \u001b[38;5;129;01mnot\u001b[39;00m \u001b[38;5;28;01mNone\u001b[39;00m \u001b[38;5;129;01mand\u001b[39;00m \u001b[38;5;28mself\u001b[39m.resolve_context:\n",
      "\u001b[36mFile \u001b[39m\u001b[32mc:\\Users\\panka\\OneDrive\\Desktop\\Ai Agent projects\\Team_of_11\\.venv\\Lib\\site-packages\\phi\\agent\\agent.py:492\u001b[39m, in \u001b[36mAgent.update_model\u001b[39m\u001b[34m(self)\u001b[39m\n\u001b[32m    490\u001b[39m \u001b[38;5;28;01mif\u001b[39;00m \u001b[38;5;28mself\u001b[39m.model \u001b[38;5;129;01mis\u001b[39;00m \u001b[38;5;28;01mNone\u001b[39;00m:\n\u001b[32m    491\u001b[39m     \u001b[38;5;28;01mtry\u001b[39;00m:\n\u001b[32m--> \u001b[39m\u001b[32m492\u001b[39m         \u001b[38;5;28;01mfrom\u001b[39;00m\u001b[38;5;250m \u001b[39m\u001b[34;01mphi\u001b[39;00m\u001b[34;01m.\u001b[39;00m\u001b[34;01mmodel\u001b[39;00m\u001b[34;01m.\u001b[39;00m\u001b[34;01mopenai\u001b[39;00m\u001b[38;5;250m \u001b[39m\u001b[38;5;28;01mimport\u001b[39;00m OpenAIChat\n\u001b[32m    493\u001b[39m     \u001b[38;5;28;01mexcept\u001b[39;00m \u001b[38;5;167;01mModuleNotFoundError\u001b[39;00m \u001b[38;5;28;01mas\u001b[39;00m e:\n\u001b[32m    494\u001b[39m         logger.exception(e)\n",
      "\u001b[36mFile \u001b[39m\u001b[32mc:\\Users\\panka\\OneDrive\\Desktop\\Ai Agent projects\\Team_of_11\\.venv\\Lib\\site-packages\\phi\\model\\openai\\__init__.py:1\u001b[39m\n\u001b[32m----> \u001b[39m\u001b[32m1\u001b[39m \u001b[38;5;28;01mfrom\u001b[39;00m\u001b[38;5;250m \u001b[39m\u001b[34;01mphi\u001b[39;00m\u001b[34;01m.\u001b[39;00m\u001b[34;01mmodel\u001b[39;00m\u001b[34;01m.\u001b[39;00m\u001b[34;01mopenai\u001b[39;00m\u001b[34;01m.\u001b[39;00m\u001b[34;01mchat\u001b[39;00m\u001b[38;5;250m \u001b[39m\u001b[38;5;28;01mimport\u001b[39;00m OpenAIChat\n\u001b[32m      2\u001b[39m \u001b[38;5;28;01mfrom\u001b[39;00m\u001b[38;5;250m \u001b[39m\u001b[34;01mphi\u001b[39;00m\u001b[34;01m.\u001b[39;00m\u001b[34;01mmodel\u001b[39;00m\u001b[34;01m.\u001b[39;00m\u001b[34;01mopenai\u001b[39;00m\u001b[34;01m.\u001b[39;00m\u001b[34;01mlike\u001b[39;00m\u001b[38;5;250m \u001b[39m\u001b[38;5;28;01mimport\u001b[39;00m OpenAILike\n",
      "\u001b[36mFile \u001b[39m\u001b[32mc:\\Users\\panka\\OneDrive\\Desktop\\Ai Agent projects\\Team_of_11\\.venv\\Lib\\site-packages\\phi\\model\\openai\\chat.py:43\u001b[39m\n\u001b[32m     36\u001b[39m     \u001b[38;5;28;01mfrom\u001b[39;00m\u001b[38;5;250m \u001b[39m\u001b[34;01mopenai\u001b[39;00m\u001b[34;01m.\u001b[39;00m\u001b[34;01mtypes\u001b[39;00m\u001b[34;01m.\u001b[39;00m\u001b[34;01mchat\u001b[39;00m\u001b[34;01m.\u001b[39;00m\u001b[34;01mchat_completion_chunk\u001b[39;00m\u001b[38;5;250m \u001b[39m\u001b[38;5;28;01mimport\u001b[39;00m (\n\u001b[32m     37\u001b[39m         ChatCompletionChunk,\n\u001b[32m     38\u001b[39m         ChoiceDelta,\n\u001b[32m     39\u001b[39m         ChoiceDeltaToolCall,\n\u001b[32m     40\u001b[39m     )\n\u001b[32m     42\u001b[39m \u001b[38;5;28;01mexcept\u001b[39;00m \u001b[38;5;167;01mModuleNotFoundError\u001b[39;00m:\n\u001b[32m---> \u001b[39m\u001b[32m43\u001b[39m     \u001b[38;5;28;01mraise\u001b[39;00m \u001b[38;5;167;01mImportError\u001b[39;00m(\u001b[33m\"\u001b[39m\u001b[33m`openai` not installed. Please install using `pip install openai`\u001b[39m\u001b[33m\"\u001b[39m)\n\u001b[32m     46\u001b[39m \u001b[38;5;129m@dataclass\u001b[39m\n\u001b[32m     47\u001b[39m \u001b[38;5;28;01mclass\u001b[39;00m\u001b[38;5;250m \u001b[39m\u001b[34;01mMetrics\u001b[39;00m:\n\u001b[32m     48\u001b[39m     input_tokens: \u001b[38;5;28mint\u001b[39m = \u001b[32m0\u001b[39m\n",
      "\u001b[31mImportError\u001b[39m: `openai` not installed. Please install using `pip install openai`"
     ]
    }
   ],
   "source": [
    "toss_search_agent=Agent(\n",
    "    name=\"Toss search agent\",\n",
    "    description=\"Agent for searching the web in Realtime for the given cricket match b/w given two teams and find out if the if the toss has occured or not .if not then return 'NO  toss has occured' else return 'toss has occured' \",\n",
    "    model=Gemini(id=\"gemini-2.0-flash\"),\n",
    "    tools=[DuckDuckGo()],\n",
    "    instructions=[\"Always include sources\"],\n",
    "    show_tool_calls=True,\n",
    "    markdown=True,\n",
    "    \n",
    ")\n",
    "\n",
    "playing_team_agent=Agent(\n",
    "    name=\"Toss search agent\",\n",
    "    description=\"if toss_search_agent returns 'toss has occured' then playing 11 of both the team are playing the match that agent reurns 'NO toss has occured' then return the Probable playing 11 of both teams base don past record\",\n",
    "    model=Gemini(id=\"gemini-2.0-flash\"),\n",
    "    tools=[DuckDuckGo()],\n",
    "    instructions=[\"Always include sources\"],\n",
    "    show_tool_calls=True,\n",
    "    markdown=True,\n",
    "    \n",
    ")\n",
    "\n",
    "agent_team = Agent(\n",
    "    team=[toss_search_agent, playing_team_agent],\n",
    "    instructions=[\"Use tables to display data\"],\n",
    "    show_tool_calls=True,\n",
    "    markdown=True,\n",
    ")\n",
    "\n",
    "\n",
    "agent_team.print_response(\"South Africa vs New Zealand, 2nd Semi-Final (B1 v A2) \", stream=True)"
   ]
  },
  {
   "cell_type": "code",
   "execution_count": null,
   "metadata": {},
   "outputs": [],
   "source": []
  },
  {
   "cell_type": "code",
   "execution_count": null,
   "metadata": {},
   "outputs": [],
   "source": []
  }
 ],
 "metadata": {
  "kernelspec": {
   "display_name": ".venv",
   "language": "python",
   "name": "python3"
  },
  "language_info": {
   "codemirror_mode": {
    "name": "ipython",
    "version": 3
   },
   "file_extension": ".py",
   "mimetype": "text/x-python",
   "name": "python",
   "nbconvert_exporter": "python",
   "pygments_lexer": "ipython3",
   "version": "3.12.9"
  }
 },
 "nbformat": 4,
 "nbformat_minor": 2
}
